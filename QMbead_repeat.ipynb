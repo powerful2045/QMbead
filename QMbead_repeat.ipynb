{
 "cells": [
  {
   "cell_type": "markdown",
   "source": [
    "# QMbead code\n",
    "to repeat 200 times for each case, see if any case will lead to wrong result."
   ],
   "metadata": {
    "collapsed": false
   },
   "id": "fb347e59d07fe0cd"
  },
  {
   "cell_type": "code",
   "execution_count": 1,
   "outputs": [],
   "source": [
    "\n",
    "import pennylane as qml\n",
    "\n",
    "import math\n",
    "import numpy as np\n",
    "import matplotlib.pyplot as plt\n",
    "import decimal\n",
    "# from func_lib_VQF_QFT_exponent import my_QFT, my_inv_QFT, convert_num_integer_to_superposition_state, convert_num_bin_string_to_superposition_state\n",
    "    "
   ],
   "metadata": {
    "collapsed": false,
    "ExecuteTime": {
     "end_time": "2023-11-08T21:01:47.697751900Z",
     "start_time": "2023-11-08T21:01:42.823191400Z"
    }
   },
   "id": "d3d6100570112fe7"
  },
  {
   "cell_type": "code",
   "execution_count": 2,
   "outputs": [
    {
     "name": "stdout",
     "output_type": "stream",
     "text": [
      "PennyLane version: 0.32.0\n"
     ]
    }
   ],
   "source": [
    "device_name = 'default.qubit'  # 'default.qubit' #\n",
    "print(\"PennyLane version:\", qml.__version__)"
   ],
   "metadata": {
    "collapsed": false,
    "ExecuteTime": {
     "end_time": "2023-11-08T21:02:00.034965700Z",
     "start_time": "2023-11-08T21:02:00.013968100Z"
    }
   },
   "id": "f1b49cb8db0339c7"
  },
  {
   "cell_type": "markdown",
   "source": [
    "# functions used\n",
    "## get_scale_coef,  plot_counts,  my_QFT,  my_inv_QFT\n",
    "## convert_num_integer_to_superposition_state, \n",
    "## convert_num_bin_string_to_superposition_state"
   ],
   "metadata": {
    "collapsed": false
   },
   "id": "13ebd2e276ee213e"
  },
  {
   "cell_type": "code",
   "execution_count": 3,
   "outputs": [],
   "source": [
    "\n",
    "# Get the minimum 10**n such that decimal_val*10**n is an\n",
    "#   integer number, where n is an integer\n",
    "def get_scale_coef(decimal_val):\n",
    "    n = 0\n",
    "    while True:\n",
    "        result = decimal_val * 10**n\n",
    "        if result.is_integer():\n",
    "            break\n",
    "        n += 1\n",
    "    return 10**n\n",
    "\n",
    "\n",
    "def plot_counts(counts):\n",
    "    # Extract keys and values\n",
    "    keys = list(counts.keys())\n",
    "    values = list(counts.values())\n",
    "\n",
    "    # Create a bar plot\n",
    "    plt.bar(keys, values)\n",
    "\n",
    "    # Add labels and title\n",
    "    plt.xlabel('Exponent')\n",
    "    # plt.ylabel('Counts')\n",
    "    # plt.title('Bar Plot of Counts')\n",
    "\n",
    "    # Rotate x-axis labels for better readability\n",
    "    plt.xticks(rotation=90)\n",
    "\n",
    "        \n",
    "def my_QFT(wires, swap_flag=True):\n",
    "    for i in range(len(wires)):\n",
    "        qml.Hadamard(wires=wires[i])\n",
    "        for j in range(i+1, len(wires)):\n",
    "            qml.CRZ(math.pi/2**(j-i),wires=[wires[i],wires[j]])\n",
    "        qml.Barrier(wires)\n",
    "        \n",
    "    if swap_flag:\n",
    "        n_wires = len(wires)\n",
    "        first_half_wires = wires[: n_wires // 2]\n",
    "        last_half_wires = wires[-(n_wires // 2) :]    \n",
    "        for wire1, wire2 in zip(first_half_wires, reversed(last_half_wires)):\n",
    "            qml.SWAP(wires=[wire1, wire2])\n",
    "        \n",
    "        \n",
    "def my_inv_QFT(wires, swap_flag=True):\n",
    "    ll = list(range(len(wires)))\n",
    "    \n",
    "    if swap_flag:\n",
    "        n_wires = len(wires)\n",
    "        first_half_wires = wires[: n_wires // 2]\n",
    "        last_half_wires = wires[-(n_wires // 2) :]\n",
    "        for wire1, wire2 in zip(reversed(first_half_wires), last_half_wires):\n",
    "            qml.SWAP(wires=[wire1, wire2])\n",
    "        \n",
    "    for i in ll[::-1]:\n",
    "        for j in range(i+1, len(wires)):\n",
    "            qml.CRZ(-math.pi/2**(j-i),wires=[wires[i],wires[j]])\n",
    "        qml.Hadamard(wires=wires[i])\n",
    "        qml.Barrier(wires)\n",
    "        \n",
    "        \n",
    "def convert_num_integer_to_superposition_state(num, print_flag=False):  #\n",
    "    # Examples: \n",
    "    # 37 --> '100101' --> state [1, 0, 1, 0, 0, 1, 0, 0], it represents (|000> + |010> + |101>)/sqrt(3)    37 = 100101\n",
    "    # 15 --> '1111' --> state [1, 1, 1, 1], it represents (|00> + |01> + |10> + |11>)/2                    15 = 1111\n",
    "    # 16 --> '10000' --> state [0, 0, 0, 0, 1, 0, 0, 0], it represents |100>                               16 = 10000\n",
    "    # integer_value = 37  # Replace with your desired integer value\n",
    "    # result_list = convert_num_integer_to_superposition_state(integer_value)\n",
    "    # print(result_list)\n",
    "    # # num, binary form, position_list= 37  100101  [0, 2, 5]   37=2^0 + 2^2 + 2^5\n",
    "    # # [1, 0, 1, 0, 0, 1, 0, 0], it represents (|000> + |010> + |101>)/sqrt(3)\n",
    "    \n",
    "    # integer_value = 15  # Replace with your desired integer value\n",
    "    # result_list = convert_num_integer_to_superposition_state(integer_value)\n",
    "    # print(result_list)\n",
    "    # # num, binary form, position_list= 15  1111    [0, 1, 2, 3]   15=2^0 + 2^1 + 2^2 + 2^3\n",
    "    # # [1, 1, 1, 1], it represents (|00> + |01> + |10> + |11>)/2\n",
    "    \n",
    "    # integer_value = 16  # Replace with your desired integer value\n",
    "    # result_list = convert_num_integer_to_superposition_state(integer_value)\n",
    "    # print(result_list)\n",
    "    # # num, binary form, position_list= 16  10000   [4]    16=2^4\n",
    "    # # [0, 0, 0, 0, 1, 0, 0, 0], it represents |100>\n",
    "    s1 = bin(num)[2:]  # Convert integer to binary string without '0b'\n",
    "    state, nq = convert_num_bin_string_to_superposition_state(s1, print_flag=print_flag)\n",
    "    return state, nq\n",
    "\n",
    "\n",
    "def convert_num_bin_string_to_superposition_state(s1, print_flag=True):\n",
    "    # Examples:\n",
    "    # '100101' --> state [1, 0, 1, 0, 0, 1, 0, 0], it represents (|000> + |010> + |101>)/sqrt(3)    37 = 100101\n",
    "    # '1111' --> state [1, 1, 1, 1], it represents (|00> + |01> + |10> + |11>)/2                    15 = 1111\n",
    "    # '10000' --> state [0, 0, 0, 0, 1, 0, 0, 0], it represents |100>                               16 = 10000\n",
    "    # see Examples given in convert_num_integer_to_superposition_state(num) above for more information\n",
    "    # + convert an integer into a binary string s1, \n",
    "    # + the right most bit's position is 0 and leftmost bit's position is most significant.\n",
    "    # + for each bit in s1, if its value is 1,   add this bit's position into a list: position_list\n",
    "    # + find the maximum value in the position_list: max_val\n",
    "    # + find the minimum n such that 2**n >= max_val\n",
    "    # + create an all-0 list: state\n",
    "    # + for the state, change the 0 to 1 for each position in position_list\n",
    "    # + normalize the state\n",
    "    # return the list and nq, where nq is the number of qubits\n",
    "    \n",
    "    # the position_list is a list of positions of '1' counted from rightmost, start from 0\n",
    "    position_list = [pos for pos, bit in enumerate(s1[::-1]) if bit == '1']\n",
    "    if print_flag: print('num, binary form, position_list=', int(s1), s1, position_list)\n",
    "    max_val = max(position_list, default=-1) + 1  # Get the maximum value in position_list\n",
    "    \n",
    "    n = 0\n",
    "    while 2 ** n < max_val:\n",
    "        n += 1\n",
    "        \n",
    "    state = [0] * (2**n)\n",
    "    for pos in position_list:\n",
    "        state[pos] = 1\n",
    "        \n",
    "    norm = np.linalg.norm(state)  # Calculate the norm of the original list\n",
    "    normalized_state = [element / norm for element in state]\n",
    "    \n",
    "    nq = n # the number of qubits\n",
    "    return normalized_state, nq\n",
    "\n"
   ],
   "metadata": {
    "collapsed": false,
    "ExecuteTime": {
     "end_time": "2023-11-08T21:02:00.921456800Z",
     "start_time": "2023-11-08T21:02:00.891948300Z"
    }
   },
   "id": "ca664dc5817514f5"
  },
  {
   "cell_type": "markdown",
   "source": [
    "# function: get_product_solution_from_counts()"
   ],
   "metadata": {
    "collapsed": false
   },
   "id": "fa0625b196caba7c"
  },
  {
   "cell_type": "code",
   "execution_count": 4,
   "outputs": [],
   "source": [
    "\n",
    "def get_product_solution_from_counts(counts, print_flag = True):\n",
    "    \n",
    "    # Find the minimum value in the dictionary\n",
    "    min_value = min(counts.values())\n",
    "\n",
    "    # Divide all values by the minimum value and round to the nearest integer\n",
    "    updated_counts = {key: round(value / min_value) for key, value in counts.items()}\n",
    "    # Print the updated dictionary\n",
    "    if print_flag: \n",
    "        print(f'updated_counts={updated_counts}')\n",
    "    \n",
    "        plt.figure(figsize=(9, 5))\n",
    "        # plot the counts and updated_counts side by side\n",
    "        plt.subplot(1,2,1)\n",
    "        plot_counts(counts)    \n",
    "        plt.ylabel('Counts')\n",
    "        \n",
    "        plt.subplot(1,2,2)\n",
    "        plot_counts(updated_counts)\n",
    "        plt.ylabel('Coefficient')\n",
    "        \n",
    "        # Show the plot\n",
    "        plt.show()\n",
    "    \n",
    "    \n",
    "    # calculate the product value u*v = sum_k (coef*2^k)\n",
    "    sum0 = 0\n",
    "    for key, value in updated_counts.items():\n",
    "        sum0 = sum0 + value * 2**(int(key, 2))\n",
    "        # print(f'key={key}, int_key={int(key, 2)}, value={value}, sum0={sum0}')\n",
    "        \n",
    "    return sum0\n",
    "    "
   ],
   "metadata": {
    "collapsed": false,
    "ExecuteTime": {
     "end_time": "2023-11-08T21:02:02.194026200Z",
     "start_time": "2023-11-08T21:02:02.106001Z"
    }
   },
   "id": "211a2ab17ffc876"
  },
  {
   "cell_type": "markdown",
   "source": [
    "# function: addition_QFT_Draper()  &  addition_QFT_Draper2()"
   ],
   "metadata": {
    "collapsed": false
   },
   "id": "58324d8859050dfa"
  },
  {
   "cell_type": "code",
   "execution_count": 5,
   "outputs": [],
   "source": [
    "\n",
    "def addition_QFT_Draper(wires_b, wires_a): # this function's output in wires_a can have overflow, solved by using addition_QFT_Draper2()\n",
    "    qml.Barrier(wires_b+wires_a)\n",
    "    my_QFT(wires = wires_a, swap_flag = False)\n",
    "    \n",
    "    lenb = len(wires_b)\n",
    "    for i in range(lenb):\n",
    "        for j in range(lenb-i):\n",
    "            # print('i,j=', i, j)\n",
    "            qml.CRZ(math.pi/2**(j), wires=[wires_b[i+j],wires_a[i]])\n",
    "    qml.Barrier(wires_b+wires_a)\n",
    "    \n",
    "    my_inv_QFT(wires=wires_a, swap_flag = False)\n",
    "    \n",
    "    \n",
    "def addition_QFT_Draper2(wires_b, wires_a): # address the overflow problem\n",
    "    # lena can be larger than or equal to lenb\n",
    "    qml.Barrier(wires_b+wires_a)\n",
    "    my_QFT(wires = wires_a, swap_flag = False)\n",
    "    qml.Barrier(wires_b+wires_a)\n",
    "    \n",
    "    lenb = len(wires_b)\n",
    "    lena = len(wires_a) # lena can be larger than or equal to lenb\n",
    "    diff = lena-lenb\n",
    "    for i in range(lena):\n",
    "        start = max(diff - i, 0)        \n",
    "        for j in range(start,lena-i):\n",
    "            # print('i,j=', i, j)\n",
    "            qml.CRZ(math.pi/2**(j), wires=[wires_b[i+j-diff],wires_a[i]])\n",
    "    qml.Barrier(wires_b+wires_a)\n",
    "    \n",
    "    my_inv_QFT(wires=wires_a, swap_flag = False)\n",
    "    \n",
    "    "
   ],
   "metadata": {
    "collapsed": false,
    "ExecuteTime": {
     "end_time": "2023-11-08T21:02:03.217276Z",
     "start_time": "2023-11-08T21:02:03.163649500Z"
    }
   },
   "id": "fa45c1db073410a2"
  },
  {
   "cell_type": "markdown",
   "source": [
    "# function: get_wires_states"
   ],
   "metadata": {
    "collapsed": false
   },
   "id": "c2bad619e6740494"
  },
  {
   "cell_type": "code",
   "execution_count": 6,
   "outputs": [],
   "source": [
    "\n",
    "def get_wires_states(u, v, print_flag=True):\n",
    "    state_u, n_u = convert_num_integer_to_superposition_state(u, print_flag=print_flag)\n",
    "    state_v, n_v = convert_num_integer_to_superposition_state(v, print_flag=print_flag)\n",
    "    if print_flag:\n",
    "        print(f'state_u={state_u}, n_u={n_u}')\n",
    "        print(f'state_v={state_v}, n_v={n_v}')\n",
    "    \n",
    "    # state_b should use less number of qubits than state_a\n",
    "    n_b = min(n_u, n_v)\n",
    "    n_a = max(n_u, n_v)\n",
    "    if n_u <= n_v:  # n_u is smaller\n",
    "        state_b = state_u\n",
    "        state_a = state_v\n",
    "    else:           # n_v is smaller\n",
    "        state_b = state_v \n",
    "        state_a = state_u\n",
    "    \n",
    "    # first wires_b  (n_b qubits)\n",
    "    # followed by wires_carry for a carry qubit  (1 qubit)\n",
    "    # followed by wires_a  (n_a qubits)\n",
    "    wires_b = list(range(n_b))\n",
    "    wires_carry = [n_b]\n",
    "    wires_a = [i+n_b+1 for i in range(n_a)]\n",
    "    \n",
    "    return wires_b, wires_carry, wires_a, state_b, state_a\n",
    "\n"
   ],
   "metadata": {
    "collapsed": false,
    "ExecuteTime": {
     "end_time": "2023-11-08T21:02:04.259959100Z",
     "start_time": "2023-11-08T21:02:04.215742500Z"
    }
   },
   "id": "e60e434379fafe62"
  },
  {
   "cell_type": "markdown",
   "source": [
    "# Class: QMbead\n",
    "## func: run_main_circ_return_counts\n",
    "## func: run_main_circ_return_state   # to delete\n",
    "## func: run_main_circ_return_expval # to delete\n",
    "## func: main_circ\n",
    "## func: run"
   ],
   "metadata": {
    "collapsed": false
   },
   "id": "657fb1042bc121a1"
  },
  {
   "cell_type": "code",
   "execution_count": 7,
   "outputs": [],
   "source": [
    "\n",
    "class QMbead:\n",
    "    def __init__(self, u, v, mode = 1,  \n",
    "                 dev_counts_num = 100000, \n",
    "                 print_flag=False):\n",
    "        self.u = u\n",
    "        self.v = v\n",
    "        self.measure_type = 'counts'  # measure_type\n",
    "        # self.wire_anx = wire_anx\n",
    "        # self.wires_1 = wires_1         \n",
    "        self.print_flag = print_flag\n",
    "        self.mode= mode\n",
    "        \n",
    "        self.wires_b, self.wires_carry, self.wires_a, \\\n",
    "            self.state_b, self.state_a = get_wires_states(u, v, print_flag=print_flag)  \n",
    "        all_wires = self.wires_b + self.wires_carry + self.wires_a\n",
    "        \n",
    "        # for more qubits, use larger counts\n",
    "        nw = len(all_wires)\n",
    "        if print_flag: \n",
    "            print(f'total number of qubits used: {nw},  ', end='')\n",
    "            print(f'n_b={len(self.wires_b)},   ', end='')\n",
    "            print(f'n_a={len(self.wires_a)}')\n",
    "        # if nw < 10:\n",
    "        #     dev_counts_num = 100000\n",
    "        # elif nw < 12:\n",
    "        #     dev_counts_num = 1000000    \n",
    "        # elif nw < 14:\n",
    "        #     dev_counts_num = 10000000\n",
    "        self.dev_counts_num = dev_counts_num\n",
    "        \n",
    "        if self.measure_type in ['counts', 'sample']:\n",
    "            self.dev = qml.device(device_name, all_wires, shots=self.dev_counts_num)\n",
    "        elif self.measure_type in ['sample_all']:\n",
    "            self.dev = qml.device(device_name, all_wires, shots=2000)\n",
    "        elif self.measure_type in ['state', 'expval']:\n",
    "            self.dev = qml.device(device_name, all_wires)\n",
    "            \n",
    "        self.dev_counts = qml.device(device_name, all_wires, shots=self.dev_counts_num)\n",
    "        self.dev_expval = qml.device(device_name, all_wires)\n",
    "        \n",
    "    def run_main_circ_return_counts(self):\n",
    "        @qml.qnode(self.dev_counts)\n",
    "        def _run_main_circ():\n",
    "            self.main_circ()\n",
    "            # lenb = len(self.wires_1)//2\n",
    "            # wires_count = self.wires_1[lenb:]\n",
    "            return qml.counts(wires = self.wires_carry + self.wires_a)\n",
    "        return _run_main_circ()\n",
    "    \n",
    "    \n",
    "    def run_main_circ_return_state(self):\n",
    "        @qml.qnode(self.dev_counts)\n",
    "        def _run_main_circ():\n",
    "            self.main_circ()\n",
    "            return qml.state()\n",
    "        return _run_main_circ() \n",
    "    \n",
    "    \n",
    "    def run_main_circ_return_expval(self):\n",
    "        @qml.qnode(self.dev_expval)\n",
    "        def _run_main_circ_return_expval():\n",
    "            self.main_circ()\n",
    "            return qml.expval(qml.PauliZ([0])) # measure qubit 0\n",
    "        if self.print_flag: print(qml.draw(_run_main_circ_return_expval)())\n",
    "        # print('')\n",
    "        # if self.print_flag: print(qml.draw(_run_main_circ_return_expval, \n",
    "        #                                    expansion_strategy=\"device\")())\n",
    "        return _run_main_circ_return_expval()\n",
    "    \n",
    "    \n",
    "    def main_circ(self):\n",
    "        # if self.mode == 1:  # not successful. So I go back to the using the circuit given in https://pennylane.ai/qml/demos/tutorial_qft_arithmetics\n",
    "        qml.MottonenStatePreparation(self.state_b, wires=self.wires_b)\n",
    "        qml.MottonenStatePreparation(self.state_a, wires=self.wires_a)    \n",
    "        \n",
    "        addition_QFT_Draper2(self.wires_b, self.wires_carry+self.wires_a)\n",
    "        \n",
    "        # elif self.mode == 2: # test addition_QFT_Draper(), come from Draper2000 paper, \n",
    "            \n",
    "         \n",
    "    def run(self, print_flag=True):\n",
    "        Z_exp = self.run_main_circ_return_expval()\n",
    "        # print('Z_exp=', Z_exp)\n",
    "                \n",
    "        # state = self.run_main_circ_return_state()\n",
    "        # print('state=', state)\n",
    "        \n",
    "        counts = self.run_main_circ_return_counts()\n",
    "        if print_flag: print('counts=', counts)\n",
    "        \n",
    "        product = get_product_solution_from_counts(counts, print_flag=print_flag)\n",
    "        if print_flag: \n",
    "            print(f'product of u={self.u} and v={self.v}  is  {product}, ', end='')\n",
    "            print(f'its binary form is {bin(product)} whose length is {len(bin(product))-2}')\n",
    "        \n",
    "        uv = self.u*self.v # for verification\n",
    "        if uv == product:\n",
    "            if print_flag: print(f'The product calculated by QMbead is correct')\n",
    "            product_correct = True\n",
    "        else:\n",
    "            print(f'The product calculated by QMbead is wrong, correct value should be {uv}')\n",
    "            product_correct = False\n",
    "            if print_flag: raise ValueError('wrong result by QMbead')\n",
    "        if print_flag: print('')\n",
    "        return product, product_correct\n",
    "        "
   ],
   "metadata": {
    "collapsed": false,
    "ExecuteTime": {
     "end_time": "2023-11-08T21:02:07.115161700Z",
     "start_time": "2023-11-08T21:02:06.979487100Z"
    }
   },
   "id": "16e00d10a8067a1e"
  },
  {
   "cell_type": "markdown",
   "source": [
    "# Results for integer multiplication"
   ],
   "metadata": {
    "collapsed": false
   },
   "id": "a31a0e171727e70f"
  },
  {
   "cell_type": "code",
   "execution_count": 8,
   "outputs": [
    {
     "name": "stdout",
     "output_type": "stream",
     "text": [
      "correct_count= 200\n"
     ]
    }
   ],
   "source": [
    "u = 3; v = 5\n",
    "correct_count = 0\n",
    "repeat_num = 200\n",
    "for repeat in range(repeat_num):\n",
    "    circ = QMbead(u, v, dev_counts_num=int(1e3), print_flag=False);  \n",
    "    product, product_correct=circ.run(print_flag = False)\n",
    "    if product_correct:\n",
    "        correct_count += 1\n",
    "print('correct_count=', correct_count)"
   ],
   "metadata": {
    "collapsed": false,
    "ExecuteTime": {
     "end_time": "2023-11-08T21:02:14.296610800Z",
     "start_time": "2023-11-08T21:02:09.875694600Z"
    }
   },
   "id": "5ac0ffa458f667b3"
  },
  {
   "cell_type": "code",
   "execution_count": 9,
   "outputs": [
    {
     "name": "stdout",
     "output_type": "stream",
     "text": [
      "correct_count= 200\n"
     ]
    }
   ],
   "source": [
    "u = 7; v = 11\n",
    "correct_count = 0\n",
    "repeat_num = 200\n",
    "for repeat in range(repeat_num):\n",
    "    circ = QMbead(u, v, dev_counts_num=int(1e4), print_flag=False);  \n",
    "    product, product_correct=circ.run(print_flag = False)\n",
    "    if product_correct:\n",
    "        correct_count += 1\n",
    "print('correct_count=', correct_count)"
   ],
   "metadata": {
    "collapsed": false,
    "ExecuteTime": {
     "end_time": "2023-10-20T12:36:31.398261600Z",
     "start_time": "2023-10-20T12:36:21.624680900Z"
    }
   },
   "id": "5675d15044002a4e"
  },
  {
   "cell_type": "code",
   "execution_count": 10,
   "outputs": [
    {
     "name": "stdout",
     "output_type": "stream",
     "text": [
      "correct_count= 200\n"
     ]
    }
   ],
   "source": [
    "u = 33; v = 100\n",
    "correct_count = 0\n",
    "repeat_num = 200\n",
    "for repeat in range(repeat_num):\n",
    "    circ = QMbead(u, v, dev_counts_num=int(1e5), print_flag=False);  \n",
    "    product, product_correct=circ.run(print_flag = False)\n",
    "    if product_correct:\n",
    "        correct_count += 1\n",
    "print('correct_count=', correct_count)"
   ],
   "metadata": {
    "collapsed": false,
    "ExecuteTime": {
     "end_time": "2023-10-20T12:38:01.293007100Z",
     "start_time": "2023-10-20T12:36:31.399267800Z"
    }
   },
   "id": "d4156a6d01bc77e5"
  },
  {
   "cell_type": "code",
   "execution_count": 11,
   "outputs": [
    {
     "name": "stdout",
     "output_type": "stream",
     "text": [
      "correct_count= 200\n"
     ]
    }
   ],
   "source": [
    "u = 2345; v = 5678\n",
    "correct_count = 0\n",
    "repeat_num = 200\n",
    "for repeat in range(repeat_num):\n",
    "    circ = QMbead(u, v, dev_counts_num=int(1e5), print_flag=False);  \n",
    "    product, product_correct=circ.run(print_flag = False)\n",
    "    if product_correct:\n",
    "        correct_count += 1\n",
    "print('correct_count=', correct_count)"
   ],
   "metadata": {
    "collapsed": false,
    "ExecuteTime": {
     "end_time": "2023-10-20T12:39:23.895632900Z",
     "start_time": "2023-10-20T12:38:01.307010200Z"
    }
   },
   "id": "57dc2fea0c21e8e9"
  },
  {
   "cell_type": "code",
   "execution_count": 12,
   "outputs": [
    {
     "name": "stdout",
     "output_type": "stream",
     "text": [
      "The product calculated by QMbead is wrong, correct value should be 133149902301\n",
      "The product calculated by QMbead is wrong, correct value should be 133149902301\n",
      "The product calculated by QMbead is wrong, correct value should be 133149902301\n",
      "correct_count= 197\n"
     ]
    }
   ],
   "source": [
    "u = 234501; v = 567801\n",
    "correct_count = 0\n",
    "repeat_num = 200\n",
    "for repeat in range(repeat_num):\n",
    "    circ = QMbead(u, v, dev_counts_num=int(1e5), print_flag=False);  \n",
    "    product, product_correct=circ.run(print_flag = False)\n",
    "    if product_correct:\n",
    "        correct_count += 1\n",
    "print('correct_count=', correct_count)"
   ],
   "metadata": {
    "collapsed": false,
    "ExecuteTime": {
     "end_time": "2023-10-20T12:40:59.842705800Z",
     "start_time": "2023-10-20T12:39:23.909642100Z"
    }
   },
   "id": "a3b89adf86665939"
  },
  {
   "cell_type": "code",
   "execution_count": 13,
   "outputs": [
    {
     "name": "stdout",
     "output_type": "stream",
     "text": [
      "correct_count= 200\n"
     ]
    }
   ],
   "source": [
    "u = 23450101; v = 56780101\n",
    "correct_count = 0\n",
    "repeat_num = 200\n",
    "for repeat in range(repeat_num):\n",
    "    circ = QMbead(u, v, dev_counts_num=int(1e6), print_flag=False);   \n",
    "    product, product_correct=circ.run(print_flag = False)\n",
    "    if product_correct:\n",
    "        correct_count += 1\n",
    "print('correct_count=', correct_count)"
   ],
   "metadata": {
    "collapsed": false,
    "ExecuteTime": {
     "end_time": "2023-10-20T13:08:09.976980Z",
     "start_time": "2023-10-20T12:51:39.149753600Z"
    }
   },
   "id": "2400358f00873bd6"
  },
  {
   "cell_type": "code",
   "execution_count": 14,
   "outputs": [
    {
     "name": "stdout",
     "output_type": "stream",
     "text": [
      "The product calculated by QMbead is wrong, correct value should be 13314991040425030201\n",
      "The product calculated by QMbead is wrong, correct value should be 13314991040425030201\n",
      "The product calculated by QMbead is wrong, correct value should be 13314991040425030201\n",
      "The product calculated by QMbead is wrong, correct value should be 13314991040425030201\n",
      "correct_count= 196\n"
     ]
    }
   ],
   "source": [
    "u = 2345010101; v = 5678010101\n",
    "correct_count = 0\n",
    "repeat_num = 200\n",
    "for repeat in range(repeat_num):\n",
    "    circ = QMbead(u, v, dev_counts_num=int(1e6), print_flag=False);   \n",
    "    product, product_correct=circ.run(print_flag = False)\n",
    "    if product_correct:\n",
    "        correct_count += 1\n",
    "print('correct_count=', correct_count)"
   ],
   "metadata": {
    "collapsed": false,
    "ExecuteTime": {
     "end_time": "2023-10-20T13:26:11.501877600Z",
     "start_time": "2023-10-20T13:08:10.008984200Z"
    }
   },
   "id": "5b143f2a5e71bd2c"
  },
  {
   "cell_type": "code",
   "execution_count": 15,
   "outputs": [
    {
     "name": "stdout",
     "output_type": "stream",
     "text": [
      "The product calculated by QMbead is wrong, correct value should be 80675247727968202502337714963\n",
      "The product calculated by QMbead is wrong, correct value should be 80675247727968202502337714963\n",
      "The product calculated by QMbead is wrong, correct value should be 80675247727968202502337714963\n",
      "The product calculated by QMbead is wrong, correct value should be 80675247727968202502337714963\n",
      "The product calculated by QMbead is wrong, correct value should be 80675247727968202502337714963\n",
      "The product calculated by QMbead is wrong, correct value should be 80675247727968202502337714963\n",
      "The product calculated by QMbead is wrong, correct value should be 80675247727968202502337714963\n",
      "The product calculated by QMbead is wrong, correct value should be 80675247727968202502337714963\n",
      "The product calculated by QMbead is wrong, correct value should be 80675247727968202502337714963\n",
      "The product calculated by QMbead is wrong, correct value should be 80675247727968202502337714963\n",
      "The product calculated by QMbead is wrong, correct value should be 80675247727968202502337714963\n",
      "The product calculated by QMbead is wrong, correct value should be 80675247727968202502337714963\n",
      "The product calculated by QMbead is wrong, correct value should be 80675247727968202502337714963\n",
      "The product calculated by QMbead is wrong, correct value should be 80675247727968202502337714963\n",
      "The product calculated by QMbead is wrong, correct value should be 80675247727968202502337714963\n",
      "The product calculated by QMbead is wrong, correct value should be 80675247727968202502337714963\n",
      "The product calculated by QMbead is wrong, correct value should be 80675247727968202502337714963\n",
      "The product calculated by QMbead is wrong, correct value should be 80675247727968202502337714963\n",
      "The product calculated by QMbead is wrong, correct value should be 80675247727968202502337714963\n",
      "The product calculated by QMbead is wrong, correct value should be 80675247727968202502337714963\n",
      "The product calculated by QMbead is wrong, correct value should be 80675247727968202502337714963\n",
      "The product calculated by QMbead is wrong, correct value should be 80675247727968202502337714963\n",
      "The product calculated by QMbead is wrong, correct value should be 80675247727968202502337714963\n",
      "The product calculated by QMbead is wrong, correct value should be 80675247727968202502337714963\n",
      "The product calculated by QMbead is wrong, correct value should be 80675247727968202502337714963\n",
      "The product calculated by QMbead is wrong, correct value should be 80675247727968202502337714963\n",
      "The product calculated by QMbead is wrong, correct value should be 80675247727968202502337714963\n",
      "correct_count= 173\n"
     ]
    }
   ],
   "source": [
    "u = 8978923748987; v = 8984957438475849\n",
    "correct_count = 0\n",
    "repeat_num = 200\n",
    "for repeat in range(repeat_num):\n",
    "    circ = QMbead(u, v, dev_counts_num=int(5e6), print_flag=False);   \n",
    "    product, product_correct=circ.run(print_flag = False)\n",
    "    if product_correct:\n",
    "        correct_count += 1\n",
    "print('correct_count=', correct_count)"
   ],
   "metadata": {
    "collapsed": false,
    "ExecuteTime": {
     "end_time": "2023-10-20T15:21:11.535311800Z",
     "start_time": "2023-10-20T13:26:11.510392800Z"
    }
   },
   "id": "94541761ac1ddc34"
  },
  {
   "cell_type": "code",
   "execution_count": null,
   "outputs": [],
   "source": [],
   "metadata": {
    "collapsed": false
   },
   "id": "3179a1e002eedf28"
  },
  {
   "cell_type": "code",
   "execution_count": null,
   "outputs": [],
   "source": [],
   "metadata": {
    "collapsed": false
   },
   "id": "42155207c95f1d2d"
  },
  {
   "cell_type": "code",
   "execution_count": null,
   "outputs": [],
   "source": [],
   "metadata": {
    "collapsed": false
   },
   "id": "53a53782855bd2d8"
  },
  {
   "cell_type": "markdown",
   "source": [
    "# Results for decimal multiplication"
   ],
   "metadata": {
    "collapsed": false
   },
   "id": "b64c68f308fd5b1"
  },
  {
   "cell_type": "code",
   "execution_count": 20,
   "outputs": [
    {
     "name": "stdout",
     "output_type": "stream",
     "text": [
      "correct_count= 200\n"
     ]
    }
   ],
   "source": [
    "u = 0.567; v = 0.0004\n",
    "correct_count = 0\n",
    "repeat_num = 200\n",
    "for repeat in range(repeat_num):\n",
    "    coef_u = get_scale_coef(u);    coef_v = get_scale_coef(v)\n",
    "    circ = QMbead(int(u*coef_u), int(v*coef_v), dev_counts_num=int(1e5), print_flag=False);  \n",
    "    product, product_correct=circ.run(print_flag = False)\n",
    "    if product_correct:\n",
    "        correct_count += 1    \n",
    "    # product = circ.run()/coef_u/coef_v\n",
    "    # print(f'the product of the decimal values is  {product:.10f}')\n",
    "    \n",
    "print('correct_count=', correct_count)"
   ],
   "metadata": {
    "collapsed": false,
    "ExecuteTime": {
     "end_time": "2023-10-20T16:47:12.315628900Z",
     "start_time": "2023-10-20T16:45:42.680115500Z"
    }
   },
   "id": "c589f1748b3cee15"
  },
  {
   "cell_type": "code",
   "execution_count": 21,
   "outputs": [
    {
     "name": "stdout",
     "output_type": "stream",
     "text": [
      "correct_count= 200\n"
     ]
    }
   ],
   "source": [
    "u = 2.5; v = 1.75\n",
    "correct_count = 0\n",
    "repeat_num = 200\n",
    "for repeat in range(repeat_num):\n",
    "    coef_u = get_scale_coef(u);    coef_v = get_scale_coef(v)\n",
    "    circ = QMbead(int(u*coef_u), int(v*coef_v), dev_counts_num=int(1e5), print_flag=False);  \n",
    "    product, product_correct=circ.run(print_flag = False)\n",
    "    if product_correct:\n",
    "        correct_count += 1    \n",
    "    # product = circ.run()/coef_u/coef_v\n",
    "    # print(f'the product of the decimal values is  {product:.5f}')\n",
    "print('correct_count=', correct_count)"
   ],
   "metadata": {
    "collapsed": false,
    "ExecuteTime": {
     "end_time": "2023-10-20T16:48:21.693081400Z",
     "start_time": "2023-10-20T16:47:12.314628500Z"
    }
   },
   "id": "705ef1f25c7604fa"
  },
  {
   "cell_type": "code",
   "execution_count": 9,
   "outputs": [
    {
     "name": "stdout",
     "output_type": "stream",
     "text": [
      "The product calculated by QMbead is wrong, correct value should be 320781111437483078727894100\n",
      "The product calculated by QMbead is wrong, correct value should be 320781111437483078727894100\n",
      "The product calculated by QMbead is wrong, correct value should be 320781111437483078727894100\n",
      "correct_count= 197\n"
     ]
    }
   ],
   "source": [
    "\n",
    "# Set the precision to a high value\n",
    "decimal.getcontext().prec = 100\n",
    "u = 136872.345502; v = 2343651.74543455\n",
    "correct_count = 0\n",
    "repeat_num = 200\n",
    "for repeat in range(repeat_num):\n",
    "    coef_u = get_scale_coef(u);    coef_v = get_scale_coef(v)\n",
    "    circ = QMbead(int(u*coef_u), int(v*coef_v), dev_counts_num=int(5e6), print_flag=False);  \n",
    "    product, product_correct=circ.run(print_flag = False)\n",
    "    if product_correct:\n",
    "        correct_count += 1 \n",
    "    # product_decimal = decimal.Decimal(str(product))/decimal.Decimal(str(coef_u*coef_v))\n",
    "    # print(f'the product of the decimal values is  {product_decimal:.15f}')    \n",
    "print('correct_count=', correct_count)"
   ],
   "metadata": {
    "collapsed": false,
    "ExecuteTime": {
     "end_time": "2023-11-09T00:11:44.257525200Z",
     "start_time": "2023-11-08T21:02:25.965022100Z"
    }
   },
   "id": "645808a33863d226"
  },
  {
   "cell_type": "code",
   "execution_count": null,
   "outputs": [],
   "source": [],
   "metadata": {
    "collapsed": false
   },
   "id": "692ce6522e39eaea"
  }
 ],
 "metadata": {
  "kernelspec": {
   "display_name": "Python 3",
   "language": "python",
   "name": "python3"
  },
  "language_info": {
   "codemirror_mode": {
    "name": "ipython",
    "version": 2
   },
   "file_extension": ".py",
   "mimetype": "text/x-python",
   "name": "python",
   "nbconvert_exporter": "python",
   "pygments_lexer": "ipython2",
   "version": "2.7.6"
  }
 },
 "nbformat": 4,
 "nbformat_minor": 5
}
